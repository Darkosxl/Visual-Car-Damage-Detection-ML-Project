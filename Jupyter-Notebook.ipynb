{
 "cells": [
  {
   "cell_type": "code",
   "execution_count": null,
   "metadata": {},
   "outputs": [],
   "source": [
    "import torch\n",
    "from ultralytics import YOLO\n",
    "\n",
    "# Check if GPU is available\n",
    "device = 'cuda' if torch.cuda.is_available() else 'cpu'\n",
    "print(f\"Using device: {device}\")\n",
    "\n",
    "# Define paths to your dataset\n",
    "Image_path = '/path/to/dataset/cars_train/images/'\n",
    "\n",
    "\n",
    "# Define class names\n",
    "class_names = ['tire_flat', 'lamp_broken', 'glass_shatter', 'crack', 'scratch', 'dent']\n",
    "\n",
    "# Create a YAML file for the dataset configuration\n",
    "dataset_yaml = \"\"\"\n",
    "train: /path/to/dataset/cars_train\n",
    "val: /path/to/dataset/cars_test\n",
    "nc: 6\n",
    "names: ['tire_flat', 'lamp_broken', 'glass_shatter', 'crack', 'scratch', 'dent']\n",
    "\"\"\"\n",
    "with open('cars_dataset.yaml', 'w') as f:\n",
    "    f.write(dataset_yaml)\n",
    "\n",
    "# Initialize a YOLOv8 model\n",
    "model = YOLO('yolov8n.pt')  # Using the nano model for lightweight performance\n",
    "\n",
    "# Train the model\n",
    "model.train(data='cars_dataset.yaml', epochs=50, batch_size=16, device=device)\n",
    "\n",
    "# Evaluate the model\n",
    "model.val()\n",
    "\n",
    "# Save the model\n",
    "model.save('yolov8_car_damage.pt')\n",
    "\n",
    "# Load the model for inference\n",
    "model = YOLO('yolov8_car_damage.pt')\n",
    "\n",
    "# Test the model on an image\n",
    "results = model('/path/to/test/image.jpg')\n",
    "\n",
    "# Print and show results\n",
    "results.print()\n",
    "results.show()\n"
   ]
  }
 ],
 "metadata": {
  "language_info": {
   "name": "python"
  }
 },
 "nbformat": 4,
 "nbformat_minor": 2
}
